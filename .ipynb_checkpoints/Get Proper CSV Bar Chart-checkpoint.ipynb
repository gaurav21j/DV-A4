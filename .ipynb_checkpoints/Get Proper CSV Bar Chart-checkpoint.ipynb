{
 "cells": [
  {
   "cell_type": "code",
   "execution_count": 1,
   "metadata": {},
   "outputs": [],
   "source": [
    "import numpy as np \n",
    "import pandas as pd \n",
    "import seaborn as sns\n",
    "import matplotlib.pyplot as plt"
   ]
  },
  {
   "cell_type": "code",
   "execution_count": 14,
   "metadata": {},
   "outputs": [],
   "source": [
    "import_india = pd.read_csv('dataset/2018-2010_import.csv')\n",
    "export_india = pd.read_csv('dataset/2018-2010_export.csv')"
   ]
  },
  {
   "cell_type": "code",
   "execution_count": 15,
   "metadata": {},
   "outputs": [],
   "source": [
    "country_list = list(import_india.country.unique())"
   ]
  },
  {
   "cell_type": "code",
   "execution_count": 30,
   "metadata": {},
   "outputs": [],
   "source": [
    "country_group = import_india.groupby('country')\n",
    "ls = []\n",
    "for country_name in country_list:\n",
    "    ls.append([country_name, (country_group.get_group(str(country_name)).value.sum())/1000 ])\n",
    "\n",
    "total = pd.DataFrame(ls, columns = ['country', 'total_imports']) \n",
    "total_asc = total.sort_values(by='total_imports', ascending=False)\n",
    "total_desc = total.sort_values(by='total_imports', ascending=True)"
   ]
  },
  {
   "cell_type": "code",
   "execution_count": 31,
   "metadata": {},
   "outputs": [],
   "source": [
    "#DataFrame Values Are In Billions\n",
    "export_csv = total_asc.to_csv (r'C:\\Users\\Gaurav Joshi\\Desktop\\PCP\\analysis\\top-imports.csv', index = None, header=True)\n",
    "export_csv = total_desc.to_csv (r'C:\\Users\\Gaurav Joshi\\Desktop\\PCP\\analysis\\bottom-imports.csv', index = None, header=True)"
   ]
  },
  {
   "cell_type": "code",
   "execution_count": 33,
   "metadata": {},
   "outputs": [],
   "source": [
    "country_group1 = export_india.groupby('country')\n",
    "ls = []\n",
    "for country_name in country_list:\n",
    "    ls.append([country_name, (country_group1.get_group(str(country_name)).value.sum())/1000 ])\n",
    "\n",
    "total1 = pd.DataFrame(ls, columns = ['country', 'total_exports']) \n",
    "total_asc1 = total.sort_values(by='total_exports', ascending=False)\n",
    "total_desc1 = total.sort_values(by='total_exports', ascending=True)"
   ]
  },
  {
   "cell_type": "code",
   "execution_count": 34,
   "metadata": {},
   "outputs": [],
   "source": [
    "#DataFrame Values Are In Billions\n",
    "export_csv = total_asc1.to_csv (r'C:\\Users\\Gaurav Joshi\\Desktop\\PCP\\analysis\\top-exports.csv', index = None, header=True)\n",
    "export_csv = total_desc1.to_csv (r'C:\\Users\\Gaurav Joshi\\Desktop\\PCP\\analysis\\bottom-exports.csv', index = None, header=True)"
   ]
  }
 ],
 "metadata": {
  "kernelspec": {
   "display_name": "Python 3",
   "language": "python",
   "name": "python3"
  },
  "language_info": {
   "codemirror_mode": {
    "name": "ipython",
    "version": 3
   },
   "file_extension": ".py",
   "mimetype": "text/x-python",
   "name": "python",
   "nbconvert_exporter": "python",
   "pygments_lexer": "ipython3",
   "version": "3.6.9"
  }
 },
 "nbformat": 4,
 "nbformat_minor": 2
}
