{
 "cells": [
  {
   "cell_type": "code",
   "execution_count": 28,
   "metadata": {},
   "outputs": [],
   "source": [
    "import csv,json"
   ]
  },
  {
   "cell_type": "code",
   "execution_count": 29,
   "metadata": {},
   "outputs": [],
   "source": [
    "with open('../dataset/lineChartExportData.csv') as csv_file:\n",
    "    lcd = list(csv.reader(csv_file, delimiter=','))\n",
    "data=[['data','value']]\n",
    "val=lcd[1][0]\n",
    "for row in lcd[1:]:\n",
    "    if(row[0]==val):\n",
    "        data.append([row[1],row[2]])\n",
    "    else:\n",
    "        filename= val.split(';')[0] if ';' in val else val.split('.')[0] \n",
    "        with open('../dataset/pageData/lineExport/'+filename+'.csv', 'w', newline='') as f_output:\n",
    "            tsv_output = csv.writer(f_output, delimiter=',')\n",
    "            for line in data:\n",
    "                tsv_output.writerow(line)\n",
    "        data=[['data','value']]\n",
    "        val=row[0]\n",
    "        data.append([row[1],row[2]])\n",
    "filename= val.split(';')[0] if ';' in val else val.split('.')[0] \n",
    "with open('../dataset/pageData/lineExport/'+filename+'.csv', 'w', newline='') as f_output:\n",
    "            tsv_output = csv.writer(f_output, delimiter=',')\n",
    "            for line in data:\n",
    "                tsv_output.writerow(line)"
   ]
  },
  {
   "cell_type": "code",
   "execution_count": 30,
   "metadata": {},
   "outputs": [],
   "source": [
    "with open('../dataset/lineChartImportData.csv') as csv_file:\n",
    "    lcd = list(csv.reader(csv_file, delimiter=','))\n",
    "data=[['data','value']]\n",
    "val=lcd[1][0]\n",
    "for row in lcd[1:]:\n",
    "    if(row[0]==val):\n",
    "        data.append([row[1],row[2]])\n",
    "    else:\n",
    "        filename= val.split(';')[0] if ';' in val else val.split('.')[0] \n",
    "        with open('../dataset/pageData/lineImport/'+filename+'.csv', 'w', newline='') as f_output:\n",
    "            tsv_output = csv.writer(f_output, delimiter=',')\n",
    "            for line in data:\n",
    "                tsv_output.writerow(line)\n",
    "        data=[['data','value']]\n",
    "        val=row[0]\n",
    "        data.append([row[1],row[2]])\n",
    "filename= val.split(';')[0] if ';' in val else val.split('.')[0] \n",
    "with open('../dataset/pageData/lineImport/'+filename+'.csv', 'w', newline='') as f_output:\n",
    "            tsv_output = csv.writer(f_output, delimiter=',')\n",
    "            for line in data:\n",
    "                tsv_output.writerow(line)"
   ]
  }
 ],
 "metadata": {
  "kernelspec": {
   "display_name": "Python 3",
   "language": "python",
   "name": "python3"
  },
  "language_info": {
   "codemirror_mode": {
    "name": "ipython",
    "version": 3
   },
   "file_extension": ".py",
   "mimetype": "text/x-python",
   "name": "python",
   "nbconvert_exporter": "python",
   "pygments_lexer": "ipython3",
   "version": "3.7.0"
  }
 },
 "nbformat": 4,
 "nbformat_minor": 2
}
