{
 "cells": [
  {
   "cell_type": "code",
   "execution_count": 57,
   "metadata": {},
   "outputs": [],
   "source": [
    "import csv,json\n",
    "with open('../dataset/Book2.csv') as csv_file1:\n",
    "    cmaplst = list(csv.reader(csv_file1, delimiter=','))\n",
    "cmap={}\n",
    "for row in cmaplst:\n",
    "    cmap[row[0]]=row[1]\n",
    "    \n",
    "with open('../dataset/dummy.csv') as csv_file2:\n",
    "    dummy = list(csv.reader(csv_file2, delimiter='\\t'))\n",
    "countryKey={}\n",
    "for row in dummy[1:]:\n",
    "        countryKey[row[1]]=row[0]"
   ]
  },
  {
   "cell_type": "code",
   "execution_count": 58,
   "metadata": {},
   "outputs": [],
   "source": [
    "with open('../dataset/2018-2010_export.csv') as csv_file3:\n",
    "    ipdata = list(csv.reader(csv_file3, delimiter=','))\n",
    "key=set()\n",
    "for row in ipdata[1:]:\n",
    "    if row[1] not in key:\n",
    "        key.add(row[1])\n",
    "for val in key:\n",
    "    data={}\n",
    "    for row in ipdata[1:]:\n",
    "        if(val==row[1] and row[3] in cmap):\n",
    "                k=cmap[row[3]]\n",
    "                if k in data:\n",
    "                    data[k]= data[k]+float(row[2] if row[2] !=''  else 0)\n",
    "                else:\n",
    "                    data[k]=float(row[2] if row[2] !='' else 0)\n",
    "    op=[['id','name','population']]\n",
    "    for d in data:\n",
    "        op.append([countryKey[d],d,data[d]])\n",
    "    filename= val.split(';')[0] if ';' in val else val.split('.')[0] \n",
    "    with open('../dataset/pageData/'+filename+'.tsv', 'w', newline='') as f_output:\n",
    "        tsv_output = csv.writer(f_output, delimiter='\\t')\n",
    "        for row in op:\n",
    "            tsv_output.writerow(row)"
   ]
  },
  {
   "cell_type": "code",
   "execution_count": null,
   "metadata": {},
   "outputs": [],
   "source": [
    "# if (row[3] in['GUADELOUPE','MYANMAR','PANAMA REPUBLIC','REUNION','STATE OF PALEST','FR GUIANA','MARTINIQUE','UNSPECIFIED','UNION OF SERBIA & MONTENEGRO']):\n",
    "#                     continue"
   ]
  }
 ],
 "metadata": {
  "kernelspec": {
   "display_name": "Python 3",
   "language": "python",
   "name": "python3"
  },
  "language_info": {
   "codemirror_mode": {
    "name": "ipython",
    "version": 3
   },
   "file_extension": ".py",
   "mimetype": "text/x-python",
   "name": "python",
   "nbconvert_exporter": "python",
   "pygments_lexer": "ipython3",
   "version": "3.7.0"
  }
 },
 "nbformat": 4,
 "nbformat_minor": 2
}
