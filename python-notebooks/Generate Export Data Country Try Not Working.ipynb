{
 "cells": [
  {
   "cell_type": "code",
   "execution_count": 277,
   "metadata": {},
   "outputs": [],
   "source": [
    "import numpy as np \n",
    "import pandas as pd \n",
    "import seaborn as sns\n",
    "import matplotlib.pyplot as plt\n",
    "#global str\n",
    "import json"
   ]
  },
  {
   "cell_type": "code",
   "execution_count": 259,
   "metadata": {},
   "outputs": [],
   "source": [
    "import_india = pd.read_csv('dataset/2018-2010_import.csv')\n",
    "export_india = pd.read_csv('dataset/2018-2010_export.csv')"
   ]
  },
  {
   "cell_type": "code",
   "execution_count": 260,
   "metadata": {},
   "outputs": [
    {
     "name": "stdout",
     "output_type": "stream",
     "text": [
      "[2018, 2017, 2016, 2015, 2014, 2013, 2012, 2011, 2010]\n"
     ]
    }
   ],
   "source": [
    "year_list = list(export_india.year.unique())\n",
    "print(year_list)"
   ]
  },
  {
   "cell_type": "code",
   "execution_count": 261,
   "metadata": {},
   "outputs": [],
   "source": [
    "year_group = export_india.groupby('year')\n",
    "ls = []\n",
    "for year_name in year_list:\n",
    "    ls.append([year_name, (year_group.get_group(year_name).value.sum())/1000 ])\n",
    "\n",
    "total = pd.DataFrame(ls, columns = ['year', 'total_exports']) \n",
    "total_asc = total.sort_values(by='total_exports', ascending=False)\n"
   ]
  },
  {
   "cell_type": "code",
   "execution_count": 263,
   "metadata": {},
   "outputs": [],
   "source": [
    "commodity_list = list(export_india.Commodity.unique())"
   ]
  },
  {
   "cell_type": "code",
   "execution_count": 264,
   "metadata": {},
   "outputs": [],
   "source": [
    "exports_india_df = pd.DataFrame(export_india) "
   ]
  },
  {
   "cell_type": "code",
   "execution_count": 322,
   "metadata": {
    "scrolled": true
   },
   "outputs": [
    {
     "name": "stdout",
     "output_type": "stream",
     "text": [
      "{'name': 'India', 'children': {'name': 2018, 'children': {'name': 'LIVE ANIMALS.', 'children': '[{\"name\":\"CHINA P RP\",\"size\":3249.21},{\"name\":\"U S A\",\"size\":1843.41},{\"name\":\"GERMANY\",\"size\":723.9},{\"name\":\"INDONESIA\",\"size\":629.71}]'}}}\n",
      "{'name': 'India', 'children': {'name': 2017, 'children': {'name': 'LIVE ANIMALS.', 'children': '[{\"name\":\"U S A\",\"size\":2125.82},{\"name\":\"MEXICO\",\"size\":2027.07},{\"name\":\"BANGLADESH PR\",\"size\":1009.3},{\"name\":\"SOUTH AFRICA\",\"size\":879.42}]'}}}\n",
      "{'name': 'India', 'children': {'name': 2016, 'children': {'name': 'LIVE ANIMALS.', 'children': '[{\"name\":\"U S A\",\"size\":2071.12},{\"name\":\"U K\",\"size\":688.35},{\"name\":\"GERMANY\",\"size\":677.87},{\"name\":\"U ARAB EMTS\",\"size\":635.31}]'}}}\n",
      "{'name': 'India', 'children': {'name': 2015, 'children': {'name': 'LEAD AND ARTICLES THEREOF.', 'children': '[{\"name\":\"U S A\",\"size\":1849.86},{\"name\":\"U K\",\"size\":732.31},{\"name\":\"U ARAB EMTS\",\"size\":720.04},{\"name\":\"GERMANY\",\"size\":697.28}]'}}}\n",
      "{'name': 'India', 'children': {'name': 2014, 'children': {'name': 'LEAD AND ARTICLES THEREOF.', 'children': '[{\"name\":\"U S A\",\"size\":2157.13},{\"name\":\"U K\",\"size\":744.85},{\"name\":\"U ARAB EMTS\",\"size\":711.47},{\"name\":\"GERMANY\",\"size\":600.35}]'}}}\n",
      "{'name': 'India', 'children': {'name': 2013, 'children': {'name': 'SHIPS, BOATS AND FLOATING STRUCTURES.', 'children': '[{\"name\":\"U S A\",\"size\":1589.12},{\"name\":\"U ARAB EMTS\",\"size\":637.27},{\"name\":\"GERMANY\",\"size\":599.41},{\"name\":\"U K\",\"size\":547.08}]'}}}\n",
      "{'name': 'India', 'children': {'name': 2012, 'children': {'name': 'SHIPS, BOATS AND FLOATING STRUCTURES.', 'children': '[{\"name\":\"U S A\",\"size\":1531.53},{\"name\":\"CHINA P RP\",\"size\":1019.64},{\"name\":\"INDONESIA\",\"size\":562.85},{\"name\":\"GERMANY\",\"size\":539.93}]'}}}\n",
      "{'name': 'India', 'children': {'name': 2011, 'children': {'name': 'CORK AND ARTICLES OF CORK.', 'children': '[{\"name\":\"U S A\",\"size\":1539.96},{\"name\":\"CHINA P RP\",\"size\":901.95},{\"name\":\"INDONESIA\",\"size\":776.71},{\"name\":\"GERMANY\",\"size\":522.91}]'}}}\n",
      "{'name': 'India', 'children': {'name': 2010, 'children': {'name': 'FURSKINS AND ARTIFICIAL FUR, MANUFACTURES THEREOF.', 'children': '[{\"name\":\"U S A\",\"size\":1296.65},{\"name\":\"U ARAB EMTS\",\"size\":805.73},{\"name\":\"GERMANY\",\"size\":601.17},{\"name\":\"NETHERLAND\",\"size\":423.76}]'}}}\n"
     ]
    }
   ],
   "source": [
    "ls = []\n",
    "year_ls = []\n",
    "n = 4\n",
    "\n",
    "for year in year_list:\n",
    "    \n",
    "    ls1 = []\n",
    "    year_comm_data = exports_india_df.loc[exports_india_df['year'] == year]\n",
    "    commodity_list = list(year_comm_data.Commodity.unique())\n",
    "    commodity_group = year_comm_data.groupby('Commodity')\n",
    "    for commodity_name in commodity_list:\n",
    "        ls.append([commodity_name, (commodity_group.get_group(commodity_name).value.sum())/1000 ])\n",
    "\n",
    "    total = pd.DataFrame(ls, columns = ['Commodity', 'total_exports']) \n",
    "    total.columns = ['name', 'size'] \n",
    "    total_asc = total.sort_values(by='size', ascending=False)\n",
    "    total_asc = total_asc.head(4)\n",
    "    total_asc = pd.DataFrame(total_asc)\n",
    "    \n",
    "    total_asc_comm = []\n",
    "    for index, row in total_asc.iterrows():\n",
    "        comm_data_sep = year_comm_data.loc[exports_india_df['Commodity'] == row['name']]\n",
    "        comm_data_sep = comm_data_sep.sort_values(by='value', ascending=False)\n",
    "        comm_data_sep = comm_data_sep.head(4)\n",
    "        total_comm_data = pd.DataFrame(comm_data_sep, columns = ['country', 'value']) \n",
    "        total_comm_data.columns = ['name', 'size'] \n",
    "        total_asc_comm = total_comm_data.to_json(orient = \"records\")    \n",
    "        \n",
    "    data = {\"name\":commodity_name, \"children\":total_asc_comm}\n",
    "    \n",
    "    data1 = {\"name\":year, \"children\":data}\n",
    "    data2 = {\"name\":'India', \"children\":data1}\n",
    "    \n",
    "    total_asc = total_asc.to_json(orient = \"records\")\n",
    "    \n",
    "    year_ls.append([year, total_asc])\n",
    "    ls = []\n",
    "    year_comm_data = []\n",
    "    commodity_list = []\n",
    "    commodity_group = []\n",
    "    "
   ]
  },
  {
   "cell_type": "code",
   "execution_count": 301,
   "metadata": {},
   "outputs": [
    {
     "name": "stdout",
     "output_type": "stream",
     "text": [
      "9\n"
     ]
    },
    {
     "data": {
      "text/plain": [
       "[{'name': 2018,\n",
       "  'children': '[{\"name\":\"MINERAL FUELS, MINERAL OILS AND PRODUCTS OF THEIR DISTILLATION; BITUMINOUS SUBSTANCES; MINERAL WAXES.\",\"size\":47.92023},{\"name\":\"NATURAL OR CULTURED PEARLS,PRECIOUS OR SEMIPRECIOUS STONES,PRE.METALS,CLAD WITH PRE.METAL AND ARTCLS THEREOF;IMIT.JEWLRY;COIN.\",\"size\":40.44905},{\"name\":\"NUCLEAR REACTORS, BOILERS, MACHINERY AND MECHANICAL APPLIANCES; PARTS THEREOF.\",\"size\":20.96332},{\"name\":\"ORGANIC CHEMICALS\",\"size\":18.23853}]'},\n",
       " {'name': 2017,\n",
       "  'children': '[{\"name\":\"NATURAL OR CULTURED PEARLS,PRECIOUS OR SEMIPRECIOUS STONES,PRE.METALS,CLAD WITH PRE.METAL AND ARTCLS THEREOF;IMIT.JEWLRY;COIN.\",\"size\":41.74333},{\"name\":\"MINERAL FUELS, MINERAL OILS AND PRODUCTS OF THEIR DISTILLATION; BITUMINOUS SUBSTANCES; MINERAL WAXES.\",\"size\":38.46931},{\"name\":\"NUCLEAR REACTORS, BOILERS, MACHINERY AND MECHANICAL APPLIANCES; PARTS THEREOF.\",\"size\":17.86565},{\"name\":\"VEHICLES OTHER THAN RAILWAY OR TRAMWAY ROLLING STOCK, AND PARTS AND ACCESSORIES THEREOF.\",\"size\":17.25508}]'},\n",
       " {'name': 2016,\n",
       "  'children': '[{\"name\":\"NATURAL OR CULTURED PEARLS,PRECIOUS OR SEMIPRECIOUS STONES,PRE.METALS,CLAD WITH PRE.METAL AND ARTCLS THEREOF;IMIT.JEWLRY;COIN.\",\"size\":43.62303},{\"name\":\"MINERAL FUELS, MINERAL OILS AND PRODUCTS OF THEIR DISTILLATION; BITUMINOUS SUBSTANCES; MINERAL WAXES.\",\"size\":32.43554},{\"name\":\"VEHICLES OTHER THAN RAILWAY OR TRAMWAY ROLLING STOCK, AND PARTS AND ACCESSORIES THEREOF.\",\"size\":14.94979},{\"name\":\"NUCLEAR REACTORS, BOILERS, MACHINERY AND MECHANICAL APPLIANCES; PARTS THEREOF.\",\"size\":14.09878}]'},\n",
       " {'name': 2015,\n",
       "  'children': '[{\"name\":\"NATURAL OR CULTURED PEARLS,PRECIOUS OR SEMIPRECIOUS STONES,PRE.METALS,CLAD WITH PRE.METAL AND ARTCLS THEREOF;IMIT.JEWLRY;COIN.\",\"size\":39.55382},{\"name\":\"MINERAL FUELS, MINERAL OILS AND PRODUCTS OF THEIR DISTILLATION; BITUMINOUS SUBSTANCES; MINERAL WAXES.\",\"size\":31.23147},{\"name\":\"VEHICLES OTHER THAN RAILWAY OR TRAMWAY ROLLING STOCK, AND PARTS AND ACCESSORIES THEREOF.\",\"size\":14.35573},{\"name\":\"NUCLEAR REACTORS, BOILERS, MACHINERY AND MECHANICAL APPLIANCES; PARTS THEREOF.\",\"size\":13.51672}]'},\n",
       " {'name': 2014,\n",
       "  'children': '[{\"name\":\"MINERAL FUELS, MINERAL OILS AND PRODUCTS OF THEIR DISTILLATION; BITUMINOUS SUBSTANCES; MINERAL WAXES.\",\"size\":57.61994},{\"name\":\"NATURAL OR CULTURED PEARLS,PRECIOUS OR SEMIPRECIOUS STONES,PRE.METALS,CLAD WITH PRE.METAL AND ARTCLS THEREOF;IMIT.JEWLRY;COIN.\",\"size\":41.54959},{\"name\":\"VEHICLES OTHER THAN RAILWAY OR TRAMWAY ROLLING STOCK, AND PARTS AND ACCESSORIES THEREOF.\",\"size\":14.47364},{\"name\":\"NUCLEAR REACTORS, BOILERS, MACHINERY AND MECHANICAL APPLIANCES; PARTS THEREOF.\",\"size\":13.80101}]'},\n",
       " {'name': 2013,\n",
       "  'children': '[{\"name\":\"MINERAL FUELS, MINERAL OILS AND PRODUCTS OF THEIR DISTILLATION; BITUMINOUS SUBSTANCES; MINERAL WAXES.\",\"size\":64.68528},{\"name\":\"NATURAL OR CULTURED PEARLS,PRECIOUS OR SEMIPRECIOUS STONES,PRE.METALS,CLAD WITH PRE.METAL AND ARTCLS THEREOF;IMIT.JEWLRY;COIN.\",\"size\":41.6921},{\"name\":\"VEHICLES OTHER THAN RAILWAY OR TRAMWAY ROLLING STOCK, AND PARTS AND ACCESSORIES THEREOF.\",\"size\":12.93275},{\"name\":\"NUCLEAR REACTORS, BOILERS, MACHINERY AND MECHANICAL APPLIANCES; PARTS THEREOF.\",\"size\":12.07539}]'},\n",
       " {'name': 2012,\n",
       "  'children': '[{\"name\":\"MINERAL FUELS, MINERAL OILS AND PRODUCTS OF THEIR DISTILLATION; BITUMINOUS SUBSTANCES; MINERAL WAXES.\",\"size\":62.10538},{\"name\":\"NATURAL OR CULTURED PEARLS,PRECIOUS OR SEMIPRECIOUS STONES,PRE.METALS,CLAD WITH PRE.METAL AND ARTCLS THEREOF;IMIT.JEWLRY;COIN.\",\"size\":43.76829},{\"name\":\"VEHICLES OTHER THAN RAILWAY OR TRAMWAY ROLLING STOCK, AND PARTS AND ACCESSORIES THEREOF.\",\"size\":12.19308},{\"name\":\"ORGANIC CHEMICALS\",\"size\":12.10648}]'},\n",
       " {'name': 2011,\n",
       "  'children': '[{\"name\":\"MINERAL FUELS, MINERAL OILS AND PRODUCTS OF THEIR DISTILLATION; BITUMINOUS SUBSTANCES; MINERAL WAXES.\",\"size\":57.3918},{\"name\":\"NATURAL OR CULTURED PEARLS,PRECIOUS OR SEMIPRECIOUS STONES,PRE.METALS,CLAD WITH PRE.METAL AND ARTCLS THEREOF;IMIT.JEWLRY;COIN.\",\"size\":47.27776},{\"name\":\"MISCELLANEOUS GOODS.\",\"size\":11.81897},{\"name\":\"ORGANIC CHEMICALS\",\"size\":11.69264}]'},\n",
       " {'name': 2010,\n",
       "  'children': '[{\"name\":\"NATURAL OR CULTURED PEARLS,PRECIOUS OR SEMIPRECIOUS STONES,PRE.METALS,CLAD WITH PRE.METAL AND ARTCLS THEREOF;IMIT.JEWLRY;COIN.\",\"size\":43.68489},{\"name\":\"MINERAL FUELS, MINERAL OILS AND PRODUCTS OF THEIR DISTILLATION; BITUMINOUS SUBSTANCES; MINERAL WAXES.\",\"size\":42.73586},{\"name\":\"MISCELLANEOUS GOODS.\",\"size\":11.82375},{\"name\":\"ELECTRICAL MACHINERY AND EQUIPMENT AND PARTS THEREOF; SOUND RECORDERS AND REPRODUCERS, TELEVISION IMAGE AND SOUND RECORDERS AND REPRODUCERS,AND PARTS.\",\"size\":10.14395}]'}]"
      ]
     },
     "execution_count": 301,
     "metadata": {},
     "output_type": "execute_result"
    }
   ],
   "source": [
    "tmp_ls = []\n",
    "print(len(year_ls))\n",
    "for i in np.arange(len(year_ls)):\n",
    "    xyz = json.loads(json.dumps(year_ls[i][1]))\n",
    "    tmp1 = dict()\n",
    "    tmp1['name'] = year_ls[i][0]\n",
    "    tmp1[\"children\"] = xyz\n",
    "    tmp_ls.append(tmp1)\n",
    "    \n",
    "tmp_ls\n",
    "    "
   ]
  },
  {
   "cell_type": "code",
   "execution_count": 302,
   "metadata": {},
   "outputs": [],
   "source": [
    "data = {\"name\":\"India\", \"children\":tmp_ls}"
   ]
  },
  {
   "cell_type": "code",
   "execution_count": 303,
   "metadata": {},
   "outputs": [
    {
     "name": "stdout",
     "output_type": "stream",
     "text": [
      "{'name': 'India', 'children': [{'name': 2018, 'children': '[{\"name\":\"MINERAL FUELS, MINERAL OILS AND PRODUCTS OF THEIR DISTILLATION; BITUMINOUS SUBSTANCES; MINERAL WAXES.\",\"size\":47.92023},{\"name\":\"NATURAL OR CULTURED PEARLS,PRECIOUS OR SEMIPRECIOUS STONES,PRE.METALS,CLAD WITH PRE.METAL AND ARTCLS THEREOF;IMIT.JEWLRY;COIN.\",\"size\":40.44905},{\"name\":\"NUCLEAR REACTORS, BOILERS, MACHINERY AND MECHANICAL APPLIANCES; PARTS THEREOF.\",\"size\":20.96332},{\"name\":\"ORGANIC CHEMICALS\",\"size\":18.23853}]'}, {'name': 2017, 'children': '[{\"name\":\"NATURAL OR CULTURED PEARLS,PRECIOUS OR SEMIPRECIOUS STONES,PRE.METALS,CLAD WITH PRE.METAL AND ARTCLS THEREOF;IMIT.JEWLRY;COIN.\",\"size\":41.74333},{\"name\":\"MINERAL FUELS, MINERAL OILS AND PRODUCTS OF THEIR DISTILLATION; BITUMINOUS SUBSTANCES; MINERAL WAXES.\",\"size\":38.46931},{\"name\":\"NUCLEAR REACTORS, BOILERS, MACHINERY AND MECHANICAL APPLIANCES; PARTS THEREOF.\",\"size\":17.86565},{\"name\":\"VEHICLES OTHER THAN RAILWAY OR TRAMWAY ROLLING STOCK, AND PARTS AND ACCESSORIES THEREOF.\",\"size\":17.25508}]'}, {'name': 2016, 'children': '[{\"name\":\"NATURAL OR CULTURED PEARLS,PRECIOUS OR SEMIPRECIOUS STONES,PRE.METALS,CLAD WITH PRE.METAL AND ARTCLS THEREOF;IMIT.JEWLRY;COIN.\",\"size\":43.62303},{\"name\":\"MINERAL FUELS, MINERAL OILS AND PRODUCTS OF THEIR DISTILLATION; BITUMINOUS SUBSTANCES; MINERAL WAXES.\",\"size\":32.43554},{\"name\":\"VEHICLES OTHER THAN RAILWAY OR TRAMWAY ROLLING STOCK, AND PARTS AND ACCESSORIES THEREOF.\",\"size\":14.94979},{\"name\":\"NUCLEAR REACTORS, BOILERS, MACHINERY AND MECHANICAL APPLIANCES; PARTS THEREOF.\",\"size\":14.09878}]'}, {'name': 2015, 'children': '[{\"name\":\"NATURAL OR CULTURED PEARLS,PRECIOUS OR SEMIPRECIOUS STONES,PRE.METALS,CLAD WITH PRE.METAL AND ARTCLS THEREOF;IMIT.JEWLRY;COIN.\",\"size\":39.55382},{\"name\":\"MINERAL FUELS, MINERAL OILS AND PRODUCTS OF THEIR DISTILLATION; BITUMINOUS SUBSTANCES; MINERAL WAXES.\",\"size\":31.23147},{\"name\":\"VEHICLES OTHER THAN RAILWAY OR TRAMWAY ROLLING STOCK, AND PARTS AND ACCESSORIES THEREOF.\",\"size\":14.35573},{\"name\":\"NUCLEAR REACTORS, BOILERS, MACHINERY AND MECHANICAL APPLIANCES; PARTS THEREOF.\",\"size\":13.51672}]'}, {'name': 2014, 'children': '[{\"name\":\"MINERAL FUELS, MINERAL OILS AND PRODUCTS OF THEIR DISTILLATION; BITUMINOUS SUBSTANCES; MINERAL WAXES.\",\"size\":57.61994},{\"name\":\"NATURAL OR CULTURED PEARLS,PRECIOUS OR SEMIPRECIOUS STONES,PRE.METALS,CLAD WITH PRE.METAL AND ARTCLS THEREOF;IMIT.JEWLRY;COIN.\",\"size\":41.54959},{\"name\":\"VEHICLES OTHER THAN RAILWAY OR TRAMWAY ROLLING STOCK, AND PARTS AND ACCESSORIES THEREOF.\",\"size\":14.47364},{\"name\":\"NUCLEAR REACTORS, BOILERS, MACHINERY AND MECHANICAL APPLIANCES; PARTS THEREOF.\",\"size\":13.80101}]'}, {'name': 2013, 'children': '[{\"name\":\"MINERAL FUELS, MINERAL OILS AND PRODUCTS OF THEIR DISTILLATION; BITUMINOUS SUBSTANCES; MINERAL WAXES.\",\"size\":64.68528},{\"name\":\"NATURAL OR CULTURED PEARLS,PRECIOUS OR SEMIPRECIOUS STONES,PRE.METALS,CLAD WITH PRE.METAL AND ARTCLS THEREOF;IMIT.JEWLRY;COIN.\",\"size\":41.6921},{\"name\":\"VEHICLES OTHER THAN RAILWAY OR TRAMWAY ROLLING STOCK, AND PARTS AND ACCESSORIES THEREOF.\",\"size\":12.93275},{\"name\":\"NUCLEAR REACTORS, BOILERS, MACHINERY AND MECHANICAL APPLIANCES; PARTS THEREOF.\",\"size\":12.07539}]'}, {'name': 2012, 'children': '[{\"name\":\"MINERAL FUELS, MINERAL OILS AND PRODUCTS OF THEIR DISTILLATION; BITUMINOUS SUBSTANCES; MINERAL WAXES.\",\"size\":62.10538},{\"name\":\"NATURAL OR CULTURED PEARLS,PRECIOUS OR SEMIPRECIOUS STONES,PRE.METALS,CLAD WITH PRE.METAL AND ARTCLS THEREOF;IMIT.JEWLRY;COIN.\",\"size\":43.76829},{\"name\":\"VEHICLES OTHER THAN RAILWAY OR TRAMWAY ROLLING STOCK, AND PARTS AND ACCESSORIES THEREOF.\",\"size\":12.19308},{\"name\":\"ORGANIC CHEMICALS\",\"size\":12.10648}]'}, {'name': 2011, 'children': '[{\"name\":\"MINERAL FUELS, MINERAL OILS AND PRODUCTS OF THEIR DISTILLATION; BITUMINOUS SUBSTANCES; MINERAL WAXES.\",\"size\":57.3918},{\"name\":\"NATURAL OR CULTURED PEARLS,PRECIOUS OR SEMIPRECIOUS STONES,PRE.METALS,CLAD WITH PRE.METAL AND ARTCLS THEREOF;IMIT.JEWLRY;COIN.\",\"size\":47.27776},{\"name\":\"MISCELLANEOUS GOODS.\",\"size\":11.81897},{\"name\":\"ORGANIC CHEMICALS\",\"size\":11.69264}]'}, {'name': 2010, 'children': '[{\"name\":\"NATURAL OR CULTURED PEARLS,PRECIOUS OR SEMIPRECIOUS STONES,PRE.METALS,CLAD WITH PRE.METAL AND ARTCLS THEREOF;IMIT.JEWLRY;COIN.\",\"size\":43.68489},{\"name\":\"MINERAL FUELS, MINERAL OILS AND PRODUCTS OF THEIR DISTILLATION; BITUMINOUS SUBSTANCES; MINERAL WAXES.\",\"size\":42.73586},{\"name\":\"MISCELLANEOUS GOODS.\",\"size\":11.82375},{\"name\":\"ELECTRICAL MACHINERY AND EQUIPMENT AND PARTS THEREOF; SOUND RECORDERS AND REPRODUCERS, TELEVISION IMAGE AND SOUND RECORDERS AND REPRODUCERS,AND PARTS.\",\"size\":10.14395}]'}]}\n"
     ]
    }
   ],
   "source": [
    "print(data)"
   ]
  }
 ],
 "metadata": {
  "kernelspec": {
   "display_name": "Python 3",
   "language": "python",
   "name": "python3"
  },
  "language_info": {
   "codemirror_mode": {
    "name": "ipython",
    "version": 3
   },
   "file_extension": ".py",
   "mimetype": "text/x-python",
   "name": "python",
   "nbconvert_exporter": "python",
   "pygments_lexer": "ipython3",
   "version": "3.6.9"
  }
 },
 "nbformat": 4,
 "nbformat_minor": 2
}
