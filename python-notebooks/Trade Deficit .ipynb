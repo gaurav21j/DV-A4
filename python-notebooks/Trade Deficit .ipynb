{
 "cells": [
  {
   "cell_type": "code",
   "execution_count": 1,
   "metadata": {},
   "outputs": [],
   "source": [
    "import numpy as np \n",
    "import pandas as pd \n",
    "import seaborn as sns\n",
    "import matplotlib.pyplot as plt\n",
    "#global str\n",
    "import json"
   ]
  },
  {
   "cell_type": "code",
   "execution_count": 2,
   "metadata": {},
   "outputs": [],
   "source": [
    "import_india = pd.read_csv('../dataset/2018-2010_import.csv')\n",
    "export_india = pd.read_csv('../dataset/2018-2010_export.csv')"
   ]
  },
  {
   "cell_type": "code",
   "execution_count": 3,
   "metadata": {},
   "outputs": [
    {
     "name": "stdout",
     "output_type": "stream",
     "text": [
      "[2018, 2017, 2016, 2015, 2014, 2013, 2012, 2011, 2010]\n"
     ]
    }
   ],
   "source": [
    "year_list = list(export_india.year.unique())\n",
    "print(year_list)"
   ]
  },
  {
   "cell_type": "code",
   "execution_count": 4,
   "metadata": {},
   "outputs": [
    {
     "name": "stdout",
     "output_type": "stream",
     "text": [
      "   year  trade deficit\n",
      "0  2018      184.01269\n",
      "1  2017      162.06617\n",
      "2  2016      108.51502\n",
      "3  2015      150.26323\n",
      "4  2014      137.70561\n",
      "5  2013      135.80438\n",
      "6  2012      190.34575\n",
      "7  2011      183.36353\n",
      "8  2010      119.96107\n"
     ]
    }
   ],
   "source": [
    "year_group = export_india.groupby('year')\n",
    "year_group1 = import_india.groupby('year')\n",
    "ls = []\n",
    "ls1 = []\n",
    "for year_name in year_list:\n",
    "    ls.append([year_name, ((year_group1.get_group(year_name).value.sum())/1000) - ((year_group.get_group(year_name).value.sum())/1000) ])\n",
    "\n",
    "total = pd.DataFrame(ls, columns = ['year', 'trade deficit']) \n",
    "print(total)\n",
    "\n"
   ]
  },
  {
   "cell_type": "code",
   "execution_count": 12,
   "metadata": {},
   "outputs": [],
   "source": [
    "export_csv = total.to_csv (r'C:\\Users\\Gaurav Joshi\\Desktop\\A4\\dataset\\trade-deficit.csv', index = None, header=True)"
   ]
  }
 ],
 "metadata": {
  "kernelspec": {
   "display_name": "Python 3",
   "language": "python",
   "name": "python3"
  },
  "language_info": {
   "codemirror_mode": {
    "name": "ipython",
    "version": 3
   },
   "file_extension": ".py",
   "mimetype": "text/x-python",
   "name": "python",
   "nbconvert_exporter": "python",
   "pygments_lexer": "ipython3",
   "version": "3.6.9"
  }
 },
 "nbformat": 4,
 "nbformat_minor": 2
}
